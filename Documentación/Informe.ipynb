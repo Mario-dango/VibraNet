{
 "cells": [
  {
   "cell_type": "markdown",
   "id": "2a4aa11c",
   "metadata": {},
   "source": [
    "\n",
    "**Proyecto:** Red IoT para monitoreo sísmico estructural (ESP8266 + MPU6050 + MQTT + Node-RED + MySQL)\n",
    "\n",
    "**Versión del informe:** v0.1\n",
    "\n",
    "**Fecha:** 28/10/2025\n",
    "\n",
    "**Equipo:** [Completar]\n",
    "\n",
    "**Responsables por sección:** [Completar]\n"
   ]
  },
  {
   "cell_type": "markdown",
   "id": "5236f895",
   "metadata": {},
   "source": [
    "# Resumen ejecutivo"
   ]
  },
  {
   "cell_type": "markdown",
   "id": "28f08aa6",
   "metadata": {},
   "source": [
    "\n",
    "1.1 **Objetivo actual**: desplegar 4–10 nodos con adquisición triaxial, sincronización NTP y publicación MQTT; backend en Ubuntu Server con Mosquitto, Node-RED y MySQL; dashboard con KPIs (PGA/PGV, espectros, alarmas).\n",
    "1.2 **Estado global**:\n",
    "\n",
    "* **Alcance**: XX% completado. @define\n",
    "* **Calidad**: error preliminar ≤ 10% en magnitudes objetivo (meta); mediciones de banco en curso.\n",
    "* **Confiabilidad**: reconexión MQTT y watchdog implementados en prototipo; colas locales en diseño.\n",
    "* **Seguridad**: TLS en broker en pruebas; ACLs definidas.\n",
    "  1.3 **Hitos cumplidos**: prototipo de firmware estable, broker y flujo base de ingesta, esquema relacional inicial.\n",
    "  1.4 **Próximos hitos**: calibración en mesa vibradora o estímulo equivalente; instalación piloto en edificio; dashboard con roles.\n"
   ]
  },
  {
   "cell_type": "markdown",
   "id": "48898c93",
   "metadata": {},
   "source": [
    "# Alcance y entregables (trazabilidad)"
   ]
  },
  {
   "cell_type": "markdown",
   "id": "db778a82",
   "metadata": {},
   "source": [
    "\n",
    "## **Requerimientos clave** $\\to$ **Artefactos** $\\to$ **Pruebas** $\\to$ **Resultado**\n",
    "\n",
    "* Adquisición 100–200 Hz por eje $\\to$ Firmware sampling + antialiasing $\\to$ Prueba de aliasing y latencia $\\to$ OK en banco.\n",
    "* Timestamp NTP ±5 ms $\\to$ Sincronización SNTP + offset $\\to$ Test contra servidor NTP local $\\to$ En curso.\n",
    "* Publicación MQTT confiable $\\to$ QoS1 + LWT + reconexión $\\to$ Caída de red simulada $\\to$ Pérdidas < 0.5% (objetivo).\n",
    "* Persistencia $\\to$ MySQL particionada por fecha $\\to$ Carga 24 h sintética $\\to$ En curso.\n",
    "* Visualización y alertas $\\to$ Node-RED Dashboard + reglas $\\to$ Alarmas umbrales PGA/PGV $\\to$ En curso.\n"
   ]
  },
  {
   "cell_type": "markdown",
   "id": "f1705590",
   "metadata": {},
   "source": [
    "# Arquitectura end-to-end (estado al corte)"
   ]
  },
  {
   "cell_type": "markdown",
   "id": "d5039f9e",
   "metadata": {},
   "source": [
    "\n",
    "## **Diagrama de bloques (visión actual)**\n"
   ]
  },
  {
   "cell_type": "markdown",
   "id": "d91ca4fd",
   "metadata": {},
   "source": [
    "![alt text](Pictures/Diagrama1.png)"
   ]
  },
  {
   "cell_type": "markdown",
   "id": "73e15419",
   "metadata": {},
   "source": [
    "\n",
    "## **Secuencia de datos (simplificada)**\n",
    "\n",
    "```mermaid\n",
    "sequenceDiagram\n",
    "  participant IMU as MPU6050\n",
    "  participant MCU as ESP8266 FW\n",
    "  participant MQTT as Broker\n",
    "  participant NR as Node-RED\n",
    "  participant DB as MySQL\n",
    "  participant UI as Dashboard\n",
    "\n",
    "  IMU->>MCU: Lectura ax, ay, az @ Fs\n",
    "  MCU->>MCU: Filtro/decimado + timestamp NTP\n",
    "  MCU->>MQTT: publish sensor/nX/data (QoS1)\n",
    "  MQTT->>NR: mensaje entregado\n",
    "  NR->>DB: INSERT batch\n",
    "  NR->>UI: KPIs/Gráficas\n",
    "  NR->>NR: Reglas de alerta (umbral)\n",
    "```\n",
    "\n",
    "## **Puntos de fallo y mitigaciones**\n",
    "\n",
    "* **NTP no disponible**: buffer local con timestamp relativo; resellado al reconectar NTP.\n",
    "* **Broker caído**: retención local circular + reintentos exponenciales.\n",
    "* **DB saturada**: cola intermedia en Node-RED + inserts bulk + particionado por día.\n",
    "* **Cortes de energía**: UPS para servidor; brown-out detection en nodos.\n",
    "\n"
   ]
  },
  {
   "cell_type": "markdown",
   "id": "e178ebd7",
   "metadata": {},
   "source": [
    "# Estado por componente"
   ]
  },
  {
   "cell_type": "markdown",
   "id": "066eba10",
   "metadata": {},
   "source": [
    "\n",
    "## Nodos (hardware)\n",
    "\n",
    "* **Avances**: ESP-01 + GY-521 integrados; alimentación fija + Li-ion con protección; fijación mecánica preliminar.\n",
    "* **Pendientes**: enclousure definitivo; soporte antivibratorio mínimo y orientación eje-edificio documentada.\n",
    "* **Riesgos**: ruido eléctrico de alimentación; mitigación con LC + rutas cortas GND.\n",
    "\n",
    "## Firmware (ESP8266/Arduino core)\n",
    "\n",
    "* **Implementado**:\n",
    "\n",
    "  * Muestreo a 200 Hz con decimado a 100 Hz para publicación.\n",
    "  * Filtro MA/FIR ligero; watchdog; reconexión robusta MQTT; LWT.\n",
    "  * Payload JSON/CBOR con esquema validado.\n",
    "* **En curso**: cola local en SPIFFS cuando no hay red; NTP con corrección de offset y jitter.\n",
    "* **Pruebas**: estrés 2 h continuo sin pérdidas; latencia E2E p50 180 ms, p95 350 ms.\n",
    "\n",
    "**MQTT (propuesta de tópicos y QoS)**\n",
    "\n",
    "* `sismo/<site>/<nodeId>/data` QoS1, no retenido.\n",
    "* `sismo/<site>/<nodeId>/status` QoS1, retenido, LWT=`offline`.\n",
    "* `sismo/<site>/<nodeId>/cfg` QoS1, retenido, inbound al nodo.\n",
    "\n",
    "**Esquema de payload (JSON ejemplo)**\n",
    "\n",
    "```json\n",
    "{\n",
    "  \"ts_ms\": 1730158805123,\n",
    "  \"fs_hz\": 100,\n",
    "  \"seq\": 15231,\n",
    "  \"ax\": [0.001, -0.003, 0.002],\n",
    "  \"ay\": [0.000, 0.001, -0.001],\n",
    "  \"az\": [-1.001, -1.000, -0.999],\n",
    "  \"temp_c\": 27.5,\n",
    "  \"vbat\": 3.92\n",
    "}\n",
    "```\n",
    "\n",
    "## Backend y visualización\n",
    "\n",
    "* **Mosquitto**: instancia con TLS, usuarios, ACLs básicos; prueba de carga con `mqtt-bench` en curso.\n",
    "* **Node-RED**: flujo de ingesta $\\to$ validación $\\to$ buffer $\\to$ insert MySQL; dashboard inicial con PGA/PGV y espectro.\n",
    "* **Alertas**: reglas por umbral configurable; canal de notificación pendiente (email/Telegram).\n",
    "\n",
    "## Persistencia (MySQL)\n",
    "\n",
    "**DDL actual (borrador operativo)**\n",
    "\n",
    "```sql\n",
    "CREATE TABLE IF NOT EXISTS imu_sample (\n",
    "  id BIGINT UNSIGNED AUTO_INCREMENT PRIMARY KEY,\n",
    "  site VARCHAR(32) NOT NULL,\n",
    "  node_id VARCHAR(32) NOT NULL,\n",
    "  ts_ms BIGINT NOT NULL,\n",
    "  fs_hz SMALLINT NOT NULL,\n",
    "  ax FLOAT NOT NULL, ay FLOAT NOT NULL, az FLOAT NOT NULL,\n",
    "  temp_c FLOAT NULL, vbat FLOAT NULL,\n",
    "  seq INT NOT NULL,\n",
    "  KEY k_ts (ts_ms),\n",
    "  KEY k_node_ts (node_id, ts_ms)\n",
    ") PARTITION BY RANGE (ts_ms) (\n",
    "  PARTITION p2025_10 VALUES LESS THAN (1767225600000)\n",
    ");\n",
    "```\n",
    "\n",
    "* **Estrategia**: inserts bulk; partición diaria; retención 180 días crudos, agregados permanentes.\n",
    "* **Consultas típicas**: ventana por evento, KPIs diarios, disponibilidad por nodo.\n",
    "\n",
    "## Calibración y validación\n",
    "\n",
    "* **Plan**: estímulo sinusoidal conocido; verificación linealidad; SNR; Allan variance si aplica.\n",
    "* **Meta**: error ≤ 10% en PGA/PGV frente a referencia; reporte de incertidumbre.\n",
    "* **Estado**: set-up de ensayo en armado.\n",
    "\n",
    "## Pruebas de integración y resiliencia\n",
    "\n",
    "* **Smoke tests**: publicación de 10 nodos sintéticos por 30 min, pérdida < 0.5%.\n",
    "* **Resiliencia**: desconexión broker 5 min, recuperación con reenvío; power cycle nodo y servidor.\n",
    "* **Pendiente**: fault injection de alta frecuencia de mensajes y jitter NTP.\n",
    "\n",
    "## Instalación in situ y O&M\n",
    "\n",
    "* **Criterios**: ubicación por piso con orientación eje X paralelo a eje largo del edificio; fijación rígida.\n",
    "* **O&M**: checklist trimestral de batería, limpieza, estado mecánico; plan de contingencia por caída de red.\n",
    "\n",
    "## Documentación y transferencia\n",
    "\n",
    "* **Producido**: guía de despliegue preliminar; ER inicial; flujos Node-RED exportados.\n",
    "* **Pendiente**: manual de mantenimiento; guía de roles/ACLs de dashboard.\n"
   ]
  },
  {
   "cell_type": "markdown",
   "id": "ffa176a9",
   "metadata": {},
   "source": [
    "# Métricas y KPIs al corte"
   ]
  },
  {
   "cell_type": "markdown",
   "id": "47e09ef9",
   "metadata": {},
   "source": [
    "\n",
    "* **Latencia E2E** (p50/p95): 180/350 ms (objetivo p95 ≤ 500 ms).\n",
    "\n",
    "* **Disponibilidad broker**: 99.5% semanal.\n",
    "\n",
    "* **Tasa de paquetes perdidos**: 0.4% en stress test.\n",
    "\n",
    "* **Uso servidor**: CPU 12% promedio, RAM 1.3 GB Node-RED + MySQL.\n",
    "\n",
    "* **Exactitud**: en banco, PGA comparado con referencia: error medio 8–12% (requiere calibración fina).\n",
    "\n"
   ]
  },
  {
   "cell_type": "markdown",
   "id": "edd70aba",
   "metadata": {},
   "source": [
    "# Riesgos y mitigaciones (corto plazo)"
   ]
  },
  {
   "cell_type": "markdown",
   "id": "eed1ce82",
   "metadata": {},
   "source": [
    "\n",
    "| Riesgo                     | Impacto | Prob. | Mitigación                                                    |\n",
    "| -------------------------- | ------- | ----: | ------------------------------------------------------------- |\n",
    "| Deriva térmica IMU         | Medio   | Media | Calibración por temperatura; corrección en firmware           |\n",
    "| Pérdidas bajo caída de red | Alto    | Media | Cola local + reintentos QoS1; persistencia temporal en SPIFFS |\n",
    "| Saturación de DB           | Medio   | Media | Bulk insert, particionado, índices mínimos                    |\n",
    "| Desfase NTP                | Alto    |  Baja | Servidor NTP local y monitoreo de offset                      |\n",
    "\n"
   ]
  },
  {
   "cell_type": "markdown",
   "id": "41c6388c",
   "metadata": {},
   "source": [
    "# Cronograma y plan de la siguiente iteración (1 semana)"
   ]
  },
  {
   "cell_type": "markdown",
   "id": "4b74014a",
   "metadata": {},
   "source": [
    "\n",
    "**Objetivos verificables**\n",
    "\n",
    "* Implementar cola local en firmware con reenvío y prueba de caída 10 min.\n",
    "* Integrar TLS mutual en Mosquitto y validar ACLs por tópico.\n",
    "* Completar dashboard con espectro en ventana móvil y alarmas.\n",
    "* Ensayo de calibración de 2 nodos y reporte de error con incertidumbre.\n",
    "\n",
    "**Checklist de la semana**\n",
    "\n",
    "1. Firmware: SPIFFS queue + tests de envejecimiento 2 h.\n",
    "2. Broker: TLS + certificados + ACL por `sismo/<site>/<nodeId>/*`.\n",
    "3. Node-RED: nodo de agregación, vista PGA/PGV, export de flujo.\n",
    "4. MySQL: crear partición automática para día siguiente.\n",
    "5. Calibración: protocolo, captura, cálculo SNR y sesgo.\n"
   ]
  },
  {
   "cell_type": "markdown",
   "id": "57e97b7c",
   "metadata": {},
   "source": [
    "# Anexos operativos"
   ]
  },
  {
   "cell_type": "markdown",
   "id": "ca2ec0ce",
   "metadata": {},
   "source": [
    "\n",
    "## Archivo de configuración Mosquitto (borrador)\n",
    "\n",
    "**Intención:** habilitar TLS, autenticación y ACL por tópico.\n",
    "**Criterio de prueba:** conectar con cliente autorizado y rechazar tópico no permitido.\n",
    "\n",
    "```conf\n",
    "listener 8883\n",
    "allow_anonymous false\n",
    "password_file /etc/mosquitto/passwd\n",
    "cafile /etc/mosquitto/certs/ca.crt\n",
    "certfile /etc/mosquitto/certs/server.crt\n",
    "keyfile /etc/mosquitto/certs/server.key\n",
    "require_certificate false\n",
    "acl_file /etc/mosquitto/acl\n",
    "persistence true\n",
    "persistence_location /var/lib/mosquitto/\n",
    "```\n",
    "\n",
    "**ACL ejemplo:**\n",
    "\n",
    "```\n",
    "user nodo_01\n",
    "topic write sismo/siteA/nodo_01/data\n",
    "topic write sismo/siteA/nodo_01/status\n",
    "\n",
    "user nodered_ingestor\n",
    "topic read sismo/siteA/+/data\n",
    "topic read sismo/siteA/+/status\n",
    "topic write sismo/siteA/+/cfg\n",
    "```\n",
    "\n",
    "## Flujos Node-RED (estructura mínima)\n",
    "\n",
    "**Intención:** validar ingestión, parseo y persistencia.\n",
    "**Criterio de prueba:** llegada de 1k msgs/min sostenida 5 min sin pérdida.\n",
    "\n",
    "```json\n",
    "[\n",
    "  {\"type\":\"tab\",\"label\":\"Ingesta\",\"id\":\"flow_ingesta\"},\n",
    "  {\"type\":\"mqtt in\",\"z\":\"flow_ingesta\",\"name\":\"data_in\",\"topic\":\"sismo/+/+/data\",\"qos\":\"1\"},\n",
    "  {\"type\":\"json\",\"z\":\"flow_ingesta\",\"name\":\"parse\"},\n",
    "  {\"type\":\"function\",\"z\":\"flow_ingesta\",\"name\":\"validate\",\"func\":\"// validar campos y rango\"},\n",
    "  {\"type\":\"batch\",\"z\":\"flow_ingesta\",\"name\":\"bulk\",\"interval\":\"5\",\"max\":\"500\"},\n",
    "  {\"type\":\"mysql\",\"z\":\"flow_ingesta\",\"name\":\"insert_bulk\",\"query\":\"INSERT ...\"}\n",
    "]\n",
    "```\n",
    "\n",
    "## Docker Compose (opcional)\n",
    "\n",
    "**Intención:** orquestar Mosquitto, Node-RED, MySQL con volúmenes y backup.\n",
    "**Criterio de prueba:** levantar stack en limpio, conservar datos tras reinicio.\n",
    "\n",
    "```yaml\n",
    "version: \"3.8\"\n",
    "services:\n",
    "  mosquitto:\n",
    "    image: eclipse-mosquitto:2\n",
    "    ports: [\"8883:8883\"]\n",
    "    volumes:\n",
    "      - ./mosquitto:/mosquitto\n",
    "  nodered:\n",
    "    image: nodered/node-red:latest\n",
    "    ports: [\"1880:1880\"]\n",
    "    volumes:\n",
    "      - ./nodered:/data\n",
    "  mysql:\n",
    "    image: mysql:8\n",
    "    environment:\n",
    "      - MYSQL_ROOT_PASSWORD=strongpass\n",
    "      - MYSQL_DATABASE=sismo\n",
    "    ports: [\"3306:3306\"]\n",
    "    volumes:\n",
    "      - ./mysql:/var/lib/mysql\n",
    "```\n"
   ]
  },
  {
   "cell_type": "markdown",
   "id": "23ea8d8e",
   "metadata": {},
   "source": [
    "# Requerimientos abiertos y supuestos"
   ]
  },
  {
   "cell_type": "markdown",
   "id": "ed8497fb",
   "metadata": {},
   "source": [
    "\n",
    "* **Falta definir**: cantidad final de nodos por planta y ubicación exacta; política de retención definitiva.\n",
    "* **Supuestos**: Fs efectivo de publicación 100 Hz; latencia objetivo p95 ≤ 500 ms; retención crudos 180 días.\n",
    "\n"
   ]
  },
  {
   "cell_type": "markdown",
   "id": "f1c75293",
   "metadata": {},
   "source": [
    "# Próximas entregas y criterios de aceptación"
   ]
  },
  {
   "cell_type": "markdown",
   "id": "eeb2e818",
   "metadata": {},
   "source": [
    "\n",
    "* **Piloto 4 nodos in situ:** 1) disponibilidad broker ≥ 99% semana, 2) pérdidas < 1%, 3) error PGA/PGV ≤ 10% vs referencia.\n",
    "* **Informe técnico de investigación:** metodología de calibración, resultados, incertidumbre, lecciones aprendidas.\n",
    "* **Guía de transferencia/mantenimiento:** instalación, O&M, roles, seguridad.\n",
    "\n"
   ]
  },
  {
   "cell_type": "markdown",
   "id": "c66893d9",
   "metadata": {},
   "source": [
    "# Matriz de cambios (desde último informe)"
   ]
  },
  {
   "cell_type": "markdown",
   "id": "167ec9ca",
   "metadata": {},
   "source": [
    "\n",
    "| ID cambio | Descripción       | Motivo                 | Impacto                | Estado    |\n",
    "| --------- | ----------------- | ---------------------- | ---------------------- | --------- |\n",
    "| CH-07     | Decimado a 100 Hz | Reducir ancho de banda | Menor carga y latencia | Aplicado  |\n",
    "| CH-08     | CBOR opcional     | Payload más compacto   | Menor uso de red       | En prueba |\n"
   ]
  },
  {
   "cell_type": "markdown",
   "id": "15666f4f",
   "metadata": {},
   "source": [
    "# Apéndice: Plan mínimo de pruebas automáticas (firmware)"
   ]
  },
  {
   "cell_type": "markdown",
   "id": "185bdcf0",
   "metadata": {},
   "source": [
    "\n",
    "**Intención:** asegurar estabilidad de muestreo y reconexión.\n",
    "**Criterio de prueba:** pasar 100% de casos en banco.\n",
    "\n",
    "* Temporización Fs ±0.5% en 15 min.\n",
    "* Reconexión MQTT < 3 s tras caída simulada.\n",
    "* Integridad de secuencia `seq` sin saltos tras reconexión.\n"
   ]
  },
  {
   "cell_type": "markdown",
   "id": "d3181597",
   "metadata": {},
   "source": [
    "# Solicitudes al comité/directores (bloqueadores)"
   ]
  },
  {
   "cell_type": "markdown",
   "id": "c5fe201e",
   "metadata": {},
   "source": [
    "\n",
    "1. Autorización de instalación piloto y acceso a Ethernet/PoE donde aplique.\n",
    "2. Presupuesto para UPS y caja estanca IP54 por nodo.\n",
    "3. Acceso a mesa vibradora o protocolo alternativo de estímulo.\n",
    "\n"
   ]
  },
  {
   "cell_type": "markdown",
   "id": "f95a1cfa",
   "metadata": {},
   "source": [
    "\n",
    "\n",
    "### Notas de uso\n",
    "\n",
    "* Este informe es plantilla operativa: reemplazar campos entre corchetes y completar percentiles/métricas con datos reales.\n",
    "* Mantener numeración y trazabilidad para comparación entre cortes.\n",
    "\n",
    "**Fin del informe.**\n"
   ]
  }
 ],
 "metadata": {
  "author": "Ana López",
  "language_info": {
   "name": "python"
  },
  "title": "",
  "uncuyo": {
   "actividad": "Red IoT de monitoreo estructural",
   "alumnos": [
    "Barrios Retta Federico",
    "Cano Francisco",
    "Pappeti Juan Ignacio"
   ],
   "carrera": "Ingeniería Mecatrónica",
   "catedra": "Proyecto Tipo C",
   "color_hex": "1F4F7B",
   "docente_auxiliar": "",
   "docente_responsable": "Dr. Ing. Oscar Curadelli",
   "facultad": "Facultad de Ingeniería",
   "fecha": "3 de noviembre de 2025",
   "legajos": [
    "14101",
    "12487",
    "11807"
   ],
   "logo_principal": "static/logo-uncuyo.pdf",
   "logo_secundario": "static/logo-facu.pdf",
   "repositorio": "",
   "semestre": "Segundo Semestre 2025",
   "subtitulo": "Informe de avance - Versión 0.1",
   "titulo": "Red de nodos de adquisición de datos sismográficos.",
   "trabajo_practico": "",
   "universidad": "Universidad Nacional de Cuyo"
  }
 },
 "nbformat": 4,
 "nbformat_minor": 5
}
